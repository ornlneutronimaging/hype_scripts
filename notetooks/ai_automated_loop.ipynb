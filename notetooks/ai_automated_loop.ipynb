{
 "cells": [
  {
   "cell_type": "code",
   "execution_count": 1,
   "metadata": {},
   "outputs": [],
   "source": [
    "debug = False"
   ]
  },
  {
   "cell_type": "code",
   "execution_count": 2,
   "metadata": {},
   "outputs": [],
   "source": [
    "from code.ai_automated_loop import AiAutomatedLoop"
   ]
  },
  {
   "cell_type": "markdown",
   "metadata": {},
   "source": [
    "# Define parameters"
   ]
  },
  {
   "cell_type": "code",
   "execution_count": 3,
   "metadata": {},
   "outputs": [],
   "source": [
    "# name of your experiment (will be used to name the folders)\n",
    "folder_title = \"testing_the_eic_loop_from_notebook_with_ni_powder\"\n",
    "\n",
    "# description of the scan\n",
    "description_of_exp = \"testing EIC with Shimin and Jean\"\n",
    "\n",
    "# how many open beams do you want to acquire?\n",
    "nbr_obs = 3    \n",
    "\n",
    "# proton charge for each run\n",
    "proton_charge = 0.1  #c\n",
    "\n",
    "# first run number (get this value from EPICS instrument interface)\n",
    "run_number = 7254"
   ]
  },
  {
   "cell_type": "markdown",
   "metadata": {},
   "source": [
    "# Launching acquistion of Open Beams, 0 and 180degrees"
   ]
  },
  {
   "cell_type": "code",
   "execution_count": 4,
   "metadata": {},
   "outputs": [
    {
     "name": "stdout",
     "output_type": "stream",
     "text": [
      "check log file at /SNS/VENUS/IPTS-35790/shared/hype/logs/ai_automated_loop.log\n",
      "/SNS/VENUS/IPTS-35790/shared/hype/scripts/pre_exp.py\n"
     ]
    }
   ],
   "source": [
    "o_ai = AiAutomatedLoop(folder_title=folder_title,\n",
    "                       description_of_exp=description_of_exp,\n",
    "                       nbr_obs=nbr_obs,\n",
    "                       proton_charge=proton_charge,\n",
    "                       first_run_number=run_number,\n",
    "                       debug=debug)\n",
    "o_ai.launch_pre_processing_step()"
   ]
  },
  {
   "cell_type": "markdown",
   "metadata": {},
   "source": [
    "Check the state of the pre-processing step!\n"
   ]
  },
  {
   "cell_type": "code",
   "execution_count": null,
   "metadata": {},
   "outputs": [],
   "source": [
    "o_ai.check_that_pre_process_measurement_is_done()"
   ]
  },
  {
   "cell_type": "markdown",
   "metadata": {},
   "source": [
    "# Calculate center of rotation \n",
    "\n",
    "you have the option to display the 0 and 180 images overlapping by changing the **visualize** flag to **True**"
   ]
  },
  {
   "cell_type": "code",
   "execution_count": null,
   "metadata": {},
   "outputs": [],
   "source": [
    "o_ai.calculate_center_of_rotation(visualize=False)"
   ]
  },
  {
   "cell_type": "markdown",
   "metadata": {},
   "source": [
    "# Launching the AI loop"
   ]
  },
  {
   "cell_type": "code",
   "execution_count": null,
   "metadata": {},
   "outputs": [],
   "source": [
    "o_ai.launching_ai_loop()"
   ]
  },
  {
   "cell_type": "code",
   "execution_count": null,
   "metadata": {},
   "outputs": [],
   "source": [
    "script_file = '/SNS/VENUS/IPTS-35790/shared/hype/script'"
   ]
  }
 ],
 "metadata": {
  "kernelspec": {
   "display_name": "Python 3 (ipykernel)",
   "language": "python",
   "name": "python3"
  },
  "language_info": {
   "codemirror_mode": {
    "name": "ipython",
    "version": 3
   },
   "file_extension": ".py",
   "mimetype": "text/x-python",
   "name": "python",
   "nbconvert_exporter": "python",
   "pygments_lexer": "ipython3",
   "version": "3.10.8"
  }
 },
 "nbformat": 4,
 "nbformat_minor": 2
}
