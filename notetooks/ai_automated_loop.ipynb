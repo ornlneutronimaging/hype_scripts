{
 "cells": [
  {
   "cell_type": "code",
   "execution_count": null,
   "metadata": {},
   "outputs": [],
   "source": [
    "debug = False"
   ]
  },
  {
   "cell_type": "code",
   "execution_count": null,
   "metadata": {},
   "outputs": [],
   "source": [
    "from code.ai_automated_loop import AiAutomatedLoop"
   ]
  },
  {
   "cell_type": "markdown",
   "metadata": {},
   "source": [
    "# Define parameters"
   ]
  },
  {
   "cell_type": "code",
   "execution_count": null,
   "metadata": {},
   "outputs": [],
   "source": [
    "# current IPTS\n",
    "IPTS = 35790\n",
    "\n",
    "# name of your experiment (will be used to name the folders)\n",
    "folder_title = \"ai_loop_copper_iron_blocks\"\n",
    "\n",
    "# description of the scan\n",
    "description_of_exp = \"testing EIC with Shimin and Jean\"\n",
    "\n",
    "# how many open beams do you want to acquire?\n",
    "nbr_obs = 3    \n",
    "\n",
    "# proton charge for each run\n",
    "proton_charge = 5.0  #c"
   ]
  },
  {
   "cell_type": "markdown",
   "metadata": {},
   "source": [
    "# Launching acquistion of Open Beams, 0 and 180degrees"
   ]
  },
  {
   "cell_type": "code",
   "execution_count": null,
   "metadata": {},
   "outputs": [],
   "source": [
    "o_ai = AiAutomatedLoop(folder_title=folder_title,\n",
    "                       ipts=IPTS,\n",
    "                       description_of_exp=description_of_exp,\n",
    "                       nbr_obs=nbr_obs,\n",
    "                       proton_charge=proton_charge,\n",
    "                       debug=debug)\n",
    "#o_ai.launch_pre_processing_step()"
   ]
  },
  {
   "cell_type": "markdown",
   "metadata": {},
   "source": [
    "Check the state of the pre-processing step!\n"
   ]
  },
  {
   "cell_type": "code",
   "execution_count": null,
   "metadata": {},
   "outputs": [],
   "source": [
    "o_ai.check_that_pre_process_measurement_is_done()"
   ]
  },
  {
   "cell_type": "markdown",
   "metadata": {},
   "source": [
    "# Calculate center of rotation \n",
    "\n",
    "you have the option to display the 0 and 180 images overlapping by changing the **visualize** flag to **True**"
   ]
  },
  {
   "cell_type": "code",
   "execution_count": null,
   "metadata": {},
   "outputs": [],
   "source": [
    "o_ai.calculate_center_of_rotation(visualize=False)"
   ]
  },
  {
   "cell_type": "markdown",
   "metadata": {},
   "source": [
    "# Launching the AI loop"
   ]
  },
  {
   "cell_type": "code",
   "execution_count": null,
   "metadata": {},
   "outputs": [],
   "source": [
    "o_ai.launching_ai_loop()"
   ]
  },
  {
   "cell_type": "code",
   "execution_count": null,
   "metadata": {},
   "outputs": [],
   "source": [
    "script_file = '/SNS/VENUS/IPTS-35790/shared/hype/script'"
   ]
  }
 ],
 "metadata": {
  "kernelspec": {
   "display_name": "Python 3 (ipykernel)",
   "language": "python",
   "name": "python3"
  },
  "language_info": {
   "codemirror_mode": {
    "name": "ipython",
    "version": 3
   },
   "file_extension": ".py",
   "mimetype": "text/x-python",
   "name": "python",
   "nbconvert_exporter": "python",
   "pygments_lexer": "ipython3",
   "version": "3.10.8"
  }
 },
 "nbformat": 4,
 "nbformat_minor": 2
}
