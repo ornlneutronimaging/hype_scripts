{
 "cells": [
  {
   "cell_type": "code",
   "execution_count": 1,
   "metadata": {},
   "outputs": [],
   "source": [
    "debug = False"
   ]
  },
  {
   "cell_type": "code",
   "execution_count": 2,
   "metadata": {},
   "outputs": [],
   "source": [
    "from code.ai_automated_loop import AiAutomatedLoop"
   ]
  },
  {
   "cell_type": "markdown",
   "metadata": {},
   "source": [
    "# Define parameters"
   ]
  },
  {
   "cell_type": "code",
   "execution_count": 3,
   "metadata": {},
   "outputs": [],
   "source": [
    "# current IPTS\n",
    "IPTS = 35945\n",
    "\n",
    "# name of your experiment (will be used to name the folders)\n",
    "folder_title = \"ai_loop_test_may\"\n",
    "\n",
    "# description of the scan\n",
    "description_of_exp = \"testing EIC in May with Shimin and Jean\"\n",
    "\n",
    "# how many open beams do you want to acquire?\n",
    "nbr_obs = 3    \n",
    "\n",
    "# proton charge for each run\n",
    "proton_charge = 5.0  #c"
   ]
  },
  {
   "cell_type": "markdown",
   "metadata": {},
   "source": [
    "# Launching acquistion of Open Beams, 0 and 180degrees"
   ]
  },
  {
   "cell_type": "code",
   "execution_count": 4,
   "metadata": {},
   "outputs": [
    {
     "ename": "KeyError",
     "evalue": "'Failed to read PV BL10:CS:RunControl:LastRunNumber'",
     "output_type": "error",
     "traceback": [
      "\u001b[0;31m---------------------------------------------------------------------------\u001b[0m",
      "\u001b[0;31mKeyError\u001b[0m                                  Traceback (most recent call last)",
      "Cell \u001b[0;32mIn[4], line 1\u001b[0m\n\u001b[0;32m----> 1\u001b[0m o_ai \u001b[38;5;241m=\u001b[39m \u001b[43mAiAutomatedLoop\u001b[49m\u001b[43m(\u001b[49m\u001b[43mfolder_title\u001b[49m\u001b[38;5;241;43m=\u001b[39;49m\u001b[43mfolder_title\u001b[49m\u001b[43m,\u001b[49m\n\u001b[1;32m      2\u001b[0m \u001b[43m                       \u001b[49m\u001b[43mipts\u001b[49m\u001b[38;5;241;43m=\u001b[39;49m\u001b[43mIPTS\u001b[49m\u001b[43m,\u001b[49m\n\u001b[1;32m      3\u001b[0m \u001b[43m                       \u001b[49m\u001b[43mdescription_of_exp\u001b[49m\u001b[38;5;241;43m=\u001b[39;49m\u001b[43mdescription_of_exp\u001b[49m\u001b[43m,\u001b[49m\n\u001b[1;32m      4\u001b[0m \u001b[43m                       \u001b[49m\u001b[43mnbr_obs\u001b[49m\u001b[38;5;241;43m=\u001b[39;49m\u001b[43mnbr_obs\u001b[49m\u001b[43m,\u001b[49m\n\u001b[1;32m      5\u001b[0m \u001b[43m                       \u001b[49m\u001b[43mproton_charge\u001b[49m\u001b[38;5;241;43m=\u001b[39;49m\u001b[43mproton_charge\u001b[49m\u001b[43m,\u001b[49m\n\u001b[1;32m      6\u001b[0m \u001b[43m                       \u001b[49m\u001b[43mdebug\u001b[49m\u001b[38;5;241;43m=\u001b[39;49m\u001b[43mdebug\u001b[49m\u001b[43m)\u001b[49m\n\u001b[1;32m      7\u001b[0m \u001b[38;5;66;03m#o_ai.launch_pre_processing_step()\u001b[39;00m\n",
      "File \u001b[0;32m/gpfs/neutronsfs/instruments/VENUS/shared/software/git/hype_scripts/notetooks/code/ai_automated_loop.py:46\u001b[0m, in \u001b[0;36mAiAutomatedLoop.__init__\u001b[0;34m(self, ipts, folder_title, description_of_exp, nbr_obs, proton_charge, debug)\u001b[0m\n\u001b[1;32m     43\u001b[0m \u001b[38;5;28mself\u001b[39m\u001b[38;5;241m.\u001b[39mnbr_obs \u001b[38;5;241m=\u001b[39m nbr_obs\n\u001b[1;32m     44\u001b[0m \u001b[38;5;28mself\u001b[39m\u001b[38;5;241m.\u001b[39mproton_charge \u001b[38;5;241m=\u001b[39m proton_charge\n\u001b[0;32m---> 46\u001b[0m first_run_number \u001b[38;5;241m=\u001b[39m \u001b[38;5;28;43mself\u001b[39;49m\u001b[38;5;241;43m.\u001b[39;49m\u001b[43mget_first_run_number\u001b[49m\u001b[43m(\u001b[49m\u001b[43m)\u001b[49m\n\u001b[1;32m     47\u001b[0m \u001b[38;5;28mself\u001b[39m\u001b[38;5;241m.\u001b[39mrun_number \u001b[38;5;241m=\u001b[39m first_run_number\n\u001b[1;32m     48\u001b[0m \u001b[38;5;28mself\u001b[39m\u001b[38;5;241m.\u001b[39mdebug \u001b[38;5;241m=\u001b[39m debug\n",
      "File \u001b[0;32m/gpfs/neutronsfs/instruments/VENUS/shared/software/git/hype_scripts/notetooks/code/ai_automated_loop.py:80\u001b[0m, in \u001b[0;36mAiAutomatedLoop.get_first_run_number\u001b[0;34m(self)\u001b[0m\n\u001b[1;32m     78\u001b[0m prefix \u001b[38;5;241m=\u001b[39m \u001b[38;5;124mf\u001b[39m\u001b[38;5;124m'\u001b[39m\u001b[38;5;124mFailed to read PV \u001b[39m\u001b[38;5;132;01m{\u001b[39;00mpv_name\u001b[38;5;132;01m}\u001b[39;00m\u001b[38;5;124m'\u001b[39m\n\u001b[1;32m     79\u001b[0m logging\u001b[38;5;241m.\u001b[39minfo(\u001b[38;5;124mf\u001b[39m\u001b[38;5;124m\"\u001b[39m\u001b[38;5;124mFailed to read PV \u001b[39m\u001b[38;5;132;01m{\u001b[39;00mpv_name\u001b[38;5;132;01m}\u001b[39;00m\u001b[38;5;124m\"\u001b[39m)\n\u001b[0;32m---> 80\u001b[0m \u001b[38;5;28;01mraise\u001b[39;00m \u001b[38;5;167;01mKeyError\u001b[39;00m(prefix)\n",
      "\u001b[0;31mKeyError\u001b[0m: 'Failed to read PV BL10:CS:RunControl:LastRunNumber'"
     ]
    }
   ],
   "source": [
    "o_ai = AiAutomatedLoop(folder_title=folder_title,\n",
    "                       ipts=IPTS,\n",
    "                       description_of_exp=description_of_exp,\n",
    "                       nbr_obs=nbr_obs,\n",
    "                       proton_charge=proton_charge,\n",
    "                       debug=debug)\n",
    "#o_ai.launch_pre_processing_step()"
   ]
  },
  {
   "cell_type": "markdown",
   "metadata": {},
   "source": [
    "Check the state of the pre-processing step!\n"
   ]
  },
  {
   "cell_type": "code",
   "execution_count": null,
   "metadata": {},
   "outputs": [],
   "source": [
    "o_ai.check_that_pre_process_measurement_is_done()"
   ]
  },
  {
   "cell_type": "markdown",
   "metadata": {},
   "source": [
    "# Calculate center of rotation \n",
    "\n",
    "you have the option to display the 0 and 180 images overlapping by changing the **visualize** flag to **True**"
   ]
  },
  {
   "cell_type": "code",
   "execution_count": null,
   "metadata": {},
   "outputs": [],
   "source": [
    "o_ai.calculate_center_of_rotation(visualize=False)"
   ]
  },
  {
   "cell_type": "markdown",
   "metadata": {},
   "source": [
    "# Launching the AI loop"
   ]
  },
  {
   "cell_type": "code",
   "execution_count": null,
   "metadata": {},
   "outputs": [],
   "source": [
    "o_ai.launching_ai_loop()"
   ]
  },
  {
   "cell_type": "code",
   "execution_count": null,
   "metadata": {},
   "outputs": [],
   "source": [
    "script_file = '/SNS/VENUS/IPTS-35790/shared/hype/script'"
   ]
  }
 ],
 "metadata": {
  "kernelspec": {
   "display_name": "Python 3 (ipykernel)",
   "language": "python",
   "name": "python3"
  },
  "language_info": {
   "codemirror_mode": {
    "name": "ipython",
    "version": 3
   },
   "file_extension": ".py",
   "mimetype": "text/x-python",
   "name": "python",
   "nbconvert_exporter": "python",
   "pygments_lexer": "ipython3",
   "version": "3.10.8"
  }
 },
 "nbformat": 4,
 "nbformat_minor": 2
}
